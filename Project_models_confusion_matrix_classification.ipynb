{
  "nbformat": 4,
  "nbformat_minor": 0,
  "metadata": {
    "colab": {
      "provenance": []
    },
    "kernelspec": {
      "name": "python3",
      "display_name": "Python 3"
    },
    "language_info": {
      "name": "python"
    }
  },
  "cells": [
    {
      "cell_type": "code",
      "source": [
        "import math\n",
        "import numpy as np\n",
        "import PIL\n",
        "\n",
        "FIXED_POINT = 256\n",
        "\n",
        "def mul_fp(a, b):\n",
        "  return (a * b) / FIXED_POINT\n",
        "\n",
        "def div_fp(a, b):\n",
        "  if b == 0:\n",
        "    b = 1\n",
        "  return (a * FIXED_POINT) / b\n",
        "\n",
        "def float_to_fp(a):\n",
        "  return math.floor(a * FIXED_POINT)\n",
        "\n",
        "def norm_to_coord_fp(a, range_fp, half_size_fp):\n",
        "  a_fp = float_to_fp(a)\n",
        "  norm_fp = div_fp(a_fp, range_fp)\n",
        "  return mul_fp(norm_fp, half_size_fp) + half_size_fp\n",
        "\n",
        "def round_fp_to_int(a):\n",
        "  return math.floor((a + (FIXED_POINT / 2)) / FIXED_POINT)\n",
        "\n",
        "def gate(a, min, max):\n",
        "  if a < min:\n",
        "    return min\n",
        "  elif a > max:\n",
        "    return max\n",
        "  else:\n",
        "    return a\n",
        "\n",
        "def rasterize_stroke(stroke_points, x_range, y_range, width, height):\n",
        "  num_channels = 3\n",
        "  buffer_byte_count = height * width * num_channels\n",
        "  buffer = bytearray(buffer_byte_count)\n",
        "\n",
        "  width_fp = width * FIXED_POINT\n",
        "  height_fp = height * FIXED_POINT\n",
        "  half_width_fp = width_fp / 2\n",
        "  half_height_fp = height_fp / 2\n",
        "  x_range_fp = float_to_fp(x_range)\n",
        "  y_range_fp = float_to_fp(y_range)\n",
        "\n",
        "  t_inc_fp = FIXED_POINT / len(stroke_points)\n",
        "\n",
        "  one_half_fp = (FIXED_POINT / 2)\n",
        "\n",
        "  for point_index in range(len(stroke_points) - 1):\n",
        "    start_point = stroke_points[point_index]\n",
        "    end_point = stroke_points[point_index + 1]\n",
        "    start_x_fp = norm_to_coord_fp(start_point[\"x\"], x_range_fp, half_width_fp)\n",
        "    start_y_fp = norm_to_coord_fp(-start_point[\"y\"], y_range_fp, half_height_fp)\n",
        "    end_x_fp = norm_to_coord_fp(end_point[\"x\"], x_range_fp, half_width_fp)\n",
        "    end_y_fp = norm_to_coord_fp(-end_point[\"y\"], y_range_fp, half_height_fp)\n",
        "    delta_x_fp = end_x_fp - start_x_fp\n",
        "    delta_y_fp = end_y_fp - start_y_fp\n",
        "\n",
        "    t_fp = point_index * t_inc_fp\n",
        "    if t_fp < one_half_fp:\n",
        "      local_t_fp = div_fp(t_fp, one_half_fp)\n",
        "      one_minus_t_fp = FIXED_POINT - local_t_fp\n",
        "      red = round_fp_to_int(one_minus_t_fp * 255)\n",
        "      green = round_fp_to_int(local_t_fp * 255)\n",
        "      blue = 0\n",
        "    else:\n",
        "      local_t_fp = div_fp(t_fp - one_half_fp, one_half_fp)\n",
        "      one_minus_t_fp = FIXED_POINT - local_t_fp\n",
        "      red = 0\n",
        "      green = round_fp_to_int(one_minus_t_fp * 255)\n",
        "      blue = round_fp_to_int(local_t_fp * 255)\n",
        "    red = gate(red, 0, 255)\n",
        "    green = gate(green, 0, 255)\n",
        "    blue = gate(blue, 0, 255)\n",
        "\n",
        "    if abs(delta_x_fp) > abs(delta_y_fp):\n",
        "      line_length = abs(round_fp_to_int(delta_x_fp))\n",
        "      if delta_x_fp > 0:\n",
        "        x_inc_fp = 1 * FIXED_POINT\n",
        "        y_inc_fp = div_fp(delta_y_fp, delta_x_fp)\n",
        "      else:\n",
        "        x_inc_fp = -1 * FIXED_POINT\n",
        "        y_inc_fp = -div_fp(delta_y_fp, delta_x_fp)\n",
        "    else:\n",
        "      line_length = abs(round_fp_to_int(delta_y_fp))\n",
        "      if delta_y_fp > 0:\n",
        "        y_inc_fp = 1 * FIXED_POINT\n",
        "        x_inc_fp = div_fp(delta_x_fp, delta_y_fp)\n",
        "      else:\n",
        "        y_inc_fp = -1 * FIXED_POINT\n",
        "        x_inc_fp = -div_fp(delta_x_fp, delta_y_fp)\n",
        "    for i in range(line_length + 1):\n",
        "      x_fp = start_x_fp + (i * x_inc_fp)\n",
        "      y_fp = start_y_fp + (i * y_inc_fp)\n",
        "      x = round_fp_to_int(x_fp)\n",
        "      y = round_fp_to_int(y_fp)\n",
        "      if (x < 0) or (x >= width) or (y < 0) or (y >= height):\n",
        "        continue\n",
        "      buffer_index = (y * width * num_channels) + (x * num_channels)\n",
        "      buffer[buffer_index + 0] = red\n",
        "      buffer[buffer_index + 1] = green\n",
        "      buffer[buffer_index + 2] = blue\n",
        "\n",
        "  np_buffer = np.frombuffer(buffer, dtype=np.uint8).reshape(height, width, num_channels)\n",
        "\n",
        "  return np_buffer"
      ],
      "metadata": {
        "id": "7_aRynTYTuSx"
      },
      "execution_count": 8,
      "outputs": []
    },
    {
      "cell_type": "code",
      "source": [
        "import glob\n",
        "import json\n",
        "\n",
        "all_strokes = []\n",
        "for filename in glob.glob(\"gestures_data/*.json\"):\n",
        "  with open(filename, \"r\") as file:\n",
        "    file_contents = file.read()\n",
        "  file_data = json.loads(file_contents)\n",
        "  for stroke in file_data[\"strokes\"]:\n",
        "    stroke[\"filename\"] = filename\n",
        "    all_strokes.append(stroke)\n",
        "\n",
        "# Total number of strokes\n",
        "print(\"Total number of strokes collected: \", len(all_strokes))\n",
        "\n",
        "strokes = [] # initialize variable to store strokes with labels\n",
        "for stroke in all_strokes:\n",
        "  if stroke[\"label\"] != \"\":\n",
        "    strokes.append(stroke)\n",
        "\n",
        "# Total number of strokes with labels\n",
        "print(\"Total number of strokes with labels: \", len(strokes))\n"
      ],
      "metadata": {
        "colab": {
          "base_uri": "https://localhost:8080/"
        },
        "id": "1uUGi8X_Tul2",
        "outputId": "d13b2e9e-38b7-4a2c-b258-32f180e40d8d"
      },
      "execution_count": 9,
      "outputs": [
        {
          "output_type": "stream",
          "name": "stdout",
          "text": [
            "Total number of strokes collected:  1456\n",
            "Total number of strokes with labels:  1317\n"
          ]
        }
      ]
    },
    {
      "cell_type": "code",
      "source": [
        "!rm -rf test\n",
        "!rm -rf train\n",
        "!rm -rf validation"
      ],
      "metadata": {
        "id": "OR9sC2_MT2JV"
      },
      "execution_count": 10,
      "outputs": []
    },
    {
      "cell_type": "code",
      "source": [
        "from pathlib import Path\n",
        "import shutil\n",
        "\n",
        "X_RANGE = 0.7\n",
        "Y_RANGE = 0.7\n",
        "\n",
        "def ensure_empty_dir(dirname):\n",
        "  dirpath = Path(dirname)\n",
        "  if dirpath.exists() and dirpath.is_dir():\n",
        "    shutil.rmtree(dirpath)\n",
        "  dirpath.mkdir()\n",
        "\n",
        "def augment_points(points, move_range, scale_range, rotate_range):\n",
        "  move_x = np.random.uniform(low=-move_range, high=move_range)\n",
        "  move_y = np.random.uniform(low=-move_range, high=move_range)\n",
        "  scale = np.random.uniform(low=1.0-scale_range, high=1.0+scale_range)\n",
        "  rotate = np.random.uniform(low=-rotate_range, high=rotate_range)\n",
        "\n",
        "  x_axis_x = math.cos(rotate) * scale\n",
        "  x_axis_y = math.sin(rotate) * scale\n",
        "\n",
        "  y_axis_x = -math.sin(rotate) * scale\n",
        "  y_axis_y = math.cos(rotate) * scale\n",
        "\n",
        "  new_points = []\n",
        "  for point in points:\n",
        "    old_x = point[\"x\"]\n",
        "    old_y = point[\"y\"]\n",
        "    new_x = (x_axis_x * old_x) + (x_axis_y * old_y) + move_x\n",
        "    new_y = (y_axis_x * old_x) + (y_axis_y * old_y) + move_y\n",
        "    new_points.append({\"x\": new_x, \"y\": new_y})\n",
        "\n",
        "  return new_points\n",
        "\n",
        "def save_strokes_as_images(strokes, root_folder, width, height, augment_count):\n",
        "  ensure_empty_dir(root_folder)\n",
        "  labels = set()\n",
        "  for stroke in strokes:\n",
        "    labels.add(stroke[\"label\"].lower())\n",
        "  for label in labels:\n",
        "      label_path = Path(root_folder, label)\n",
        "      ensure_empty_dir(label_path)\n",
        "\n",
        "  label_counts = {}\n",
        "  label_augment_counts = {}\n",
        "  for stroke in strokes:\n",
        "    points = stroke[\"strokePoints\"]\n",
        "    label = stroke[\"label\"].lower()\n",
        "    if label == \"\":\n",
        "      raise Exception(\"Missing label for %s:%d\" % (stroke[\"filename\"], stroke[\"index\"]))\n",
        "\n",
        "    # For counting how many un-augmented images are there for each label\n",
        "    if label not in label_counts:\n",
        "      label_counts[label] = 0\n",
        "    label_count = label_counts[label]\n",
        "    label_counts[label] += 1\n",
        "\n",
        "    # Rasterize normal strokes\n",
        "    raster = rasterize_stroke(points, X_RANGE, Y_RANGE, width, height)\n",
        "    image = PIL.Image.fromarray(raster)\n",
        "    image.save(Path(root_folder, label, str(label_count) + \".png\"))\n",
        "\n",
        "    #Augment and Rasterize a set of strokes\n",
        "    for i in range(augment_count):\n",
        "      augmented_points = augment_points(points, 0.1, 0.1, 0.3)\n",
        "      raster = rasterize_stroke(augmented_points, X_RANGE, Y_RANGE, width, height)\n",
        "      image = PIL.Image.fromarray(raster)\n",
        "      image.save(Path(root_folder, label, str(label_count) + \"_a\" + str(i) + \".png\"))\n",
        "      #label count for augmented images\n",
        "      if label not in label_augment_counts:\n",
        "        label_augment_counts[label] = 0\n",
        "      label_augment_count = label_augment_counts[label]\n",
        "      label_augment_counts[label] += 1\n",
        "  print('label counts of un-augmented images for', root_folder, ': ', label_counts)\n",
        "  print('label counts of augmented images for', root_folder, ': ', label_augment_counts)\n"
      ],
      "metadata": {
        "id": "e7yX6azBUHlE"
      },
      "execution_count": 11,
      "outputs": []
    },
    {
      "cell_type": "code",
      "source": [
        "IMAGE_WIDTH = 32\n",
        "IMAGE_HEIGHT = 32\n",
        "\n",
        "shuffled_strokes = strokes\n",
        "np.random.shuffle(shuffled_strokes)\n",
        "print(len(shuffled_strokes))\n",
        "test_percentage = 20\n",
        "validation_percentage = 20\n",
        "train_percentage = 100 - (test_percentage + validation_percentage)\n",
        "\n",
        "test_count = math.floor((len(shuffled_strokes) * test_percentage) / 100)\n",
        "validation_count = math.floor((len(shuffled_strokes) * validation_percentage) / 100)\n",
        "test_strokes = shuffled_strokes[0:test_count]\n",
        "validation_strokes = shuffled_strokes[test_count:(test_count + validation_count)]\n",
        "train_strokes = shuffled_strokes[(test_count + validation_count):]"
      ],
      "metadata": {
        "colab": {
          "base_uri": "https://localhost:8080/"
        },
        "id": "b_immEvJUKcQ",
        "outputId": "7728268e-50d8-46f5-d9cf-4d6966e00677"
      },
      "execution_count": 12,
      "outputs": [
        {
          "output_type": "stream",
          "name": "stdout",
          "text": [
            "1317\n"
          ]
        }
      ]
    },
    {
      "cell_type": "code",
      "source": [
        "# Save strokes into folder\n",
        "save_strokes_as_images(test_strokes, \"test\", IMAGE_WIDTH, IMAGE_HEIGHT, 10)\n",
        "save_strokes_as_images(validation_strokes, \"validation\", IMAGE_WIDTH, IMAGE_HEIGHT, 0)\n",
        "save_strokes_as_images(train_strokes, \"train\", IMAGE_WIDTH, IMAGE_HEIGHT, 10)"
      ],
      "metadata": {
        "colab": {
          "base_uri": "https://localhost:8080/"
        },
        "id": "Wroi1smeUOjB",
        "outputId": "e033cda7-72e3-4762-e03a-b58bed742c8e"
      },
      "execution_count": 13,
      "outputs": [
        {
          "output_type": "stream",
          "name": "stdout",
          "text": [
            "label counts of un-augmented images for test :  {'0': 38, '1': 62, '2': 51, '3': 47, '4': 65}\n",
            "label counts of augmented images for test :  {'0': 380, '1': 620, '2': 510, '3': 470, '4': 650}\n",
            "label counts of un-augmented images for validation :  {'2': 43, '4': 72, '1': 51, '0': 50, '3': 47}\n",
            "label counts of augmented images for validation :  {}\n",
            "label counts of un-augmented images for train :  {'3': 163, '4': 167, '2': 131, '1': 161, '0': 169}\n",
            "label counts of augmented images for train :  {'3': 1630, '4': 1670, '2': 1310, '1': 1610, '0': 1690}\n"
          ]
        }
      ]
    },
    {
      "cell_type": "code",
      "source": [
        "import tensorflow as tf\n",
        "from tensorflow import keras\n",
        "from tensorflow.keras.utils import image_dataset_from_directory\n",
        "\n",
        "validation_ds = image_dataset_from_directory(\n",
        "    directory='validation',\n",
        "    labels='inferred',\n",
        "    label_mode='categorical',\n",
        "    batch_size=16,\n",
        "    image_size=(IMAGE_WIDTH, IMAGE_HEIGHT)).prefetch(buffer_size=32)\n",
        "\n",
        "train_ds = image_dataset_from_directory(\n",
        "    directory='train',\n",
        "    labels='inferred',\n",
        "    label_mode='categorical',\n",
        "    batch_size=16,\n",
        "    image_size=(IMAGE_WIDTH, IMAGE_HEIGHT)).prefetch(buffer_size=32)\n"
      ],
      "metadata": {
        "colab": {
          "base_uri": "https://localhost:8080/"
        },
        "id": "SktZKyaYUT3w",
        "outputId": "8f8dd0d9-c1fa-46fe-ec7b-f73defeda6af"
      },
      "execution_count": 14,
      "outputs": [
        {
          "output_type": "stream",
          "name": "stdout",
          "text": [
            "Found 263 files belonging to 5 classes.\n",
            "Found 8701 files belonging to 5 classes.\n"
          ]
        }
      ]
    },
    {
      "cell_type": "code",
      "source": [
        "# Extracting and saving train images and labels from the train dataset.\n",
        "train_images = []\n",
        "train_labels = []\n",
        "for image, label in train_ds.take(len(train_ds)).unbatch():\n",
        "    train_images.append(image)\n",
        "    train_labels.append(label)"
      ],
      "metadata": {
        "id": "SCt9_j1wWiA0"
      },
      "execution_count": 15,
      "outputs": []
    },
    {
      "cell_type": "code",
      "source": [
        "# Extracting and saving test images and labels from the test dataset.\n",
        "test_images = []\n",
        "test_labels = []\n",
        "for image, label in validation_ds.take(len(validation_ds)).unbatch():\n",
        "    test_images.append(image)\n",
        "    test_labels.append(label)"
      ],
      "metadata": {
        "id": "1eTMP17iWj0Z"
      },
      "execution_count": 16,
      "outputs": []
    },
    {
      "cell_type": "code",
      "source": [
        "test_labels = np.argmax(test_labels, axis=1)"
      ],
      "metadata": {
        "id": "RAKhaXZ9d47H"
      },
      "execution_count": 17,
      "outputs": []
    },
    {
      "cell_type": "code",
      "source": [
        "from sklearn.metrics import classification_report, confusion_matrix\n",
        "import seaborn as sns\n",
        "import matplotlib.pyplot as plt\n",
        "import numpy as np\n",
        "\n",
        "# Function to plot confusion matrix\n",
        "def plot_confusion_matrix(cm, classes, title='Confusion Matrix', cmap=plt.cm.Blues):\n",
        "    plt.imshow(cm, interpolation='nearest', cmap=cmap)\n",
        "    plt.title(title)\n",
        "    plt.colorbar()\n",
        "    tick_marks = np.arange(len(classes))\n",
        "    plt.xticks(tick_marks, classes, rotation=45)\n",
        "    plt.yticks(tick_marks, classes)\n",
        "\n",
        "    fmt = 'd'\n",
        "    thresh = cm.max() / 2.\n",
        "    for i in range(cm.shape[0]):\n",
        "        for j in range(cm.shape[1]):\n",
        "            plt.text(j, i, format(cm[i, j], fmt),\n",
        "                     horizontalalignment=\"center\",\n",
        "                     color=\"white\" if cm[i, j] > thresh else \"black\")\n",
        "\n",
        "    plt.ylabel('True label')\n",
        "    plt.xlabel('Predicted label')\n",
        "    plt.tight_layout()\n"
      ],
      "metadata": {
        "id": "W9SlOkF4p0W4"
      },
      "execution_count": 23,
      "outputs": []
    },
    {
      "cell_type": "code",
      "source": [
        "interpreter = tf.lite.Interpreter('base_8_16_32_model.tfl')\n",
        "\n",
        "interpreter.allocate_tensors()\n",
        "\n",
        "input_details = interpreter.get_input_details()\n",
        "output_details = interpreter.get_output_details()\n",
        "\n",
        "prediction= []\n",
        "input_index = interpreter.get_input_details()[0][\"index\"]\n",
        "output_index = interpreter.get_output_details()[0][\"index\"]\n",
        "input_format = interpreter.get_output_details()[0]['dtype']\n",
        "\n",
        "for i, test_image in enumerate(test_images):\n",
        "    if i % 100 == 0:\n",
        "        print('Evaluated on {n} results so far.'.format(n=i))\n",
        "    test_image = np.expand_dims(test_image, axis=0).astype(input_format)\n",
        "    interpreter.set_tensor(input_index, test_image)\n",
        "\n",
        "    # Run inference.\n",
        "    interpreter.invoke()\n",
        "    output = interpreter.tensor(output_index)\n",
        "    predicted_label = np.argmax(output()[0])\n",
        "    prediction.append(predicted_label)\n",
        "\n",
        "print('\\n')\n",
        "# Comparing prediction results with ground truth labels to calculate accuracy.\n",
        "prediction = np.array(prediction)\n",
        "\n",
        "# Actual labels\n",
        "y_true = test_labels\n",
        "\n",
        "# Compute confusion matrix\n",
        "cm = confusion_matrix(y_true, prediction)\n",
        "np.set_printoptions(precision=2)\n",
        "\n",
        "# Plot confusion matrix\n",
        "plt.figure(figsize=(8, 8))\n",
        "plot_confusion_matrix(cm, classes=[0,1,2,3,4], title='Confusion Matrix')\n",
        "plt.show()\n",
        "\n",
        "# Print classification report f\n",
        "print('Classification Report')\n",
        "print(classification_report(y_true, prediction))"
      ],
      "metadata": {
        "colab": {
          "base_uri": "https://localhost:8080/",
          "height": 1000
        },
        "id": "eFAEiJyfUYhh",
        "outputId": "95c65c1e-dc38-4021-b36e-2a56ecbdf533"
      },
      "execution_count": 25,
      "outputs": [
        {
          "output_type": "stream",
          "name": "stdout",
          "text": [
            "Evaluated on 0 results so far.\n",
            "Evaluated on 100 results so far.\n",
            "Evaluated on 200 results so far.\n",
            "\n",
            "\n"
          ]
        },
        {
          "output_type": "display_data",
          "data": {
            "text/plain": [
              "<Figure size 800x800 with 2 Axes>"
            ],
            "image/png": "[encoded data removed]"
          },
          "metadata": {}
        },
        {
          "output_type": "stream",
          "name": "stdout",
          "text": [
            "Classification Report\n",
            "              precision    recall  f1-score   support\n",
            "\n",
            "           0       0.90      0.92      0.91        50\n",
            "           1       0.90      0.90      0.90        51\n",
            "           2       0.93      0.95      0.94        43\n",
            "           3       0.96      0.91      0.93        47\n",
            "           4       0.97      0.97      0.97        72\n",
            "\n",
            "    accuracy                           0.94       263\n",
            "   macro avg       0.93      0.93      0.93       263\n",
            "weighted avg       0.94      0.94      0.94       263\n",
            "\n"
          ]
        }
      ]
    },
    {
      "cell_type": "code",
      "source": [
        "interpreter = tf.lite.Interpreter('quant_8_16_32_model.tfl')\n",
        "\n",
        "interpreter.allocate_tensors()\n",
        "\n",
        "input_details = interpreter.get_input_details()\n",
        "output_details = interpreter.get_output_details()\n",
        "\n",
        "prediction= []\n",
        "input_index = interpreter.get_input_details()[0][\"index\"]\n",
        "output_index = interpreter.get_output_details()[0][\"index\"]\n",
        "input_format = interpreter.get_output_details()[0]['dtype']\n",
        "\n",
        "for i, test_image in enumerate(test_images):\n",
        "    if i % 100 == 0:\n",
        "        print('Evaluated on {n} results so far.'.format(n=i))\n",
        "    test_image = np.expand_dims(test_image, axis=0).astype(input_format)\n",
        "    interpreter.set_tensor(input_index, test_image)\n",
        "\n",
        "    # Run inference.\n",
        "    interpreter.invoke()\n",
        "    output = interpreter.tensor(output_index)\n",
        "    predicted_label = np.argmax(output()[0])\n",
        "    prediction.append(predicted_label)\n",
        "\n",
        "print('\\n')\n",
        "# Comparing prediction results with ground truth labels to calculate accuracy.\n",
        "prediction = np.array(prediction)\n",
        "\n",
        "# Actual labels\n",
        "y_true = test_labels\n",
        "\n",
        "# Compute confusion matrix\n",
        "cm = confusion_matrix(y_true, prediction)\n",
        "np.set_printoptions(precision=2)\n",
        "\n",
        "# Plot confusion matrix\n",
        "plt.figure(figsize=(8, 8))\n",
        "plot_confusion_matrix(cm, classes=[0,1,2,3,4], title='Confusion Matrix')\n",
        "plt.show()\n",
        "\n",
        "# Print classification report f\n",
        "print('Classification Report')\n",
        "print(classification_report(y_true, prediction))"
      ],
      "metadata": {
        "colab": {
          "base_uri": "https://localhost:8080/",
          "height": 1000
        },
        "id": "R9Cj4_LRdGtk",
        "outputId": "90745664-2be1-4d97-a911-8f2974cabe5a"
      },
      "execution_count": 26,
      "outputs": [
        {
          "output_type": "stream",
          "name": "stdout",
          "text": [
            "Evaluated on 0 results so far.\n",
            "Evaluated on 100 results so far.\n",
            "Evaluated on 200 results so far.\n",
            "\n",
            "\n"
          ]
        },
        {
          "output_type": "display_data",
          "data": {
            "text/plain": [
              "<Figure size 800x800 with 2 Axes>"
            ],
            "image/png": "[encoded data removed]"
          },
          "metadata": {}
        },
        {
          "output_type": "stream",
          "name": "stdout",
          "text": [
            "Classification Report\n",
            "              precision    recall  f1-score   support\n",
            "\n",
            "           0       0.00      0.00      0.00        50\n",
            "           1       0.00      0.00      0.00        51\n",
            "           2       0.00      0.00      0.00        43\n",
            "           3       0.00      0.00      0.00        47\n",
            "           4       0.27      1.00      0.43        72\n",
            "\n",
            "    accuracy                           0.27       263\n",
            "   macro avg       0.05      0.20      0.09       263\n",
            "weighted avg       0.07      0.27      0.12       263\n",
            "\n"
          ]
        },
        {
          "output_type": "stream",
          "name": "stderr",
          "text": [
            "/usr/local/lib/python3.10/dist-packages/sklearn/metrics/_classification.py:1344: UndefinedMetricWarning: Precision and F-score are ill-defined and being set to 0.0 in labels with no predicted samples. Use `zero_division` parameter to control this behavior.\n",
            "  _warn_prf(average, modifier, msg_start, len(result))\n",
            "/usr/local/lib/python3.10/dist-packages/sklearn/metrics/_classification.py:1344: UndefinedMetricWarning: Precision and F-score are ill-defined and being set to 0.0 in labels with no predicted samples. Use `zero_division` parameter to control this behavior.\n",
            "  _warn_prf(average, modifier, msg_start, len(result))\n",
            "/usr/local/lib/python3.10/dist-packages/sklearn/metrics/_classification.py:1344: UndefinedMetricWarning: Precision and F-score are ill-defined and being set to 0.0 in labels with no predicted samples. Use `zero_division` parameter to control this behavior.\n",
            "  _warn_prf(average, modifier, msg_start, len(result))\n"
          ]
        }
      ]
    },
    {
      "cell_type": "code",
      "source": [],
      "metadata": {
        "id": "Vd2qHqtCedNF"
      },
      "execution_count": null,
      "outputs": []
    }
  ]
}